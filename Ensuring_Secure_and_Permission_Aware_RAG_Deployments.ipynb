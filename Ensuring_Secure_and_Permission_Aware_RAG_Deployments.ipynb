{
  "nbformat": 4,
  "nbformat_minor": 0,
  "metadata": {
    "colab": {
      "provenance": [],
      "authorship_tag": "ABX9TyMYP7Gs0xatMP0i9GXcfKrq",
      "include_colab_link": true
    },
    "kernelspec": {
      "name": "python3",
      "display_name": "Python 3"
    },
    "language_info": {
      "name": "python"
    }
  },
  "cells": [
    {
      "cell_type": "markdown",
      "metadata": {
        "id": "view-in-github",
        "colab_type": "text"
      },
      "source": [
        "<a href=\"https://colab.research.google.com/github/benitomartin/rag-pii-llamaindex-milvus/blob/main/Ensuring_Secure_and_Permission_Aware_RAG_Deployments.ipynb\" target=\"_parent\"><img src=\"https://colab.research.google.com/assets/colab-badge.svg\" alt=\"Open In Colab\"/></a>"
      ]
    },
    {
      "cell_type": "markdown",
      "source": [
        "# Install Libraries"
      ],
      "metadata": {
        "id": "dZ1fOSVCMsve"
      }
    },
    {
      "cell_type": "code",
      "source": [
        "!pip install -qq llama-index llama-index-postprocessor-presidio llama-index-vector-stores-milvus"
      ],
      "metadata": {
        "colab": {
          "base_uri": "https://localhost:8080/"
        },
        "id": "0QKkvwUyFX3v",
        "outputId": "a457462d-0093-4220-d4d5-75f82093c577"
      },
      "execution_count": null,
      "outputs": [
        {
          "output_type": "stream",
          "name": "stdout",
          "text": [
            "\u001b[2K   \u001b[90m━━━━━━━━━━━━━━━━━━━━━━━━━━━━━━━━━━━━━━━━\u001b[0m \u001b[32m1.6/1.6 MB\u001b[0m \u001b[31m20.8 MB/s\u001b[0m eta \u001b[36m0:00:00\u001b[0m\n",
            "\u001b[2K   \u001b[90m━━━━━━━━━━━━━━━━━━━━━━━━━━━━━━━━━━━━━━━━\u001b[0m \u001b[32m1.2/1.2 MB\u001b[0m \u001b[31m28.4 MB/s\u001b[0m eta \u001b[36m0:00:00\u001b[0m\n",
            "\u001b[2K   \u001b[90m━━━━━━━━━━━━━━━━━━━━━━━━━━━━━━━━━━━━━━━━\u001b[0m \u001b[32m1.5/1.5 MB\u001b[0m \u001b[31m29.6 MB/s\u001b[0m eta \u001b[36m0:00:00\u001b[0m\n",
            "\u001b[2K   \u001b[90m━━━━━━━━━━━━━━━━━━━━━━━━━━━━━━━━━━━━━━━━\u001b[0m \u001b[32m109.2/109.2 kB\u001b[0m \u001b[31m6.5 MB/s\u001b[0m eta \u001b[36m0:00:00\u001b[0m\n",
            "\u001b[2K   \u001b[90m━━━━━━━━━━━━━━━━━━━━━━━━━━━━━━━━━━━━━━━━\u001b[0m \u001b[32m197.8/197.8 kB\u001b[0m \u001b[31m9.4 MB/s\u001b[0m eta \u001b[36m0:00:00\u001b[0m\n",
            "\u001b[2K   \u001b[90m━━━━━━━━━━━━━━━━━━━━━━━━━━━━━━━━━━━━━━━━\u001b[0m \u001b[32m187.4/187.4 kB\u001b[0m \u001b[31m8.5 MB/s\u001b[0m eta \u001b[36m0:00:00\u001b[0m\n",
            "\u001b[2K   \u001b[90m━━━━━━━━━━━━━━━━━━━━━━━━━━━━━━━━━━━━━━━━\u001b[0m \u001b[32m76.4/76.4 kB\u001b[0m \u001b[31m4.3 MB/s\u001b[0m eta \u001b[36m0:00:00\u001b[0m\n",
            "\u001b[2K   \u001b[90m━━━━━━━━━━━━━━━━━━━━━━━━━━━━━━━━━━━━━━━━\u001b[0m \u001b[32m77.9/77.9 kB\u001b[0m \u001b[31m4.2 MB/s\u001b[0m eta \u001b[36m0:00:00\u001b[0m\n",
            "\u001b[2K   \u001b[90m━━━━━━━━━━━━━━━━━━━━━━━━━━━━━━━━━━━━━━━━\u001b[0m \u001b[32m49.4/49.4 MB\u001b[0m \u001b[31m13.5 MB/s\u001b[0m eta \u001b[36m0:00:00\u001b[0m\n",
            "\u001b[2K   \u001b[90m━━━━━━━━━━━━━━━━━━━━━━━━━━━━━━━━━━━━━━━━\u001b[0m \u001b[32m374.1/374.1 kB\u001b[0m \u001b[31m19.0 MB/s\u001b[0m eta \u001b[36m0:00:00\u001b[0m\n",
            "\u001b[2K   \u001b[90m━━━━━━━━━━━━━━━━━━━━━━━━━━━━━━━━━━━━━━━━\u001b[0m \u001b[32m2.6/2.6 MB\u001b[0m \u001b[31m58.8 MB/s\u001b[0m eta \u001b[36m0:00:00\u001b[0m\n",
            "\u001b[2K   \u001b[90m━━━━━━━━━━━━━━━━━━━━━━━━━━━━━━━━━━━━━━━━\u001b[0m \u001b[32m2.1/2.1 MB\u001b[0m \u001b[31m57.5 MB/s\u001b[0m eta \u001b[36m0:00:00\u001b[0m\n",
            "\u001b[2K   \u001b[90m━━━━━━━━━━━━━━━━━━━━━━━━━━━━━━━━━━━━━━━━\u001b[0m \u001b[32m295.8/295.8 kB\u001b[0m \u001b[31m16.7 MB/s\u001b[0m eta \u001b[36m0:00:00\u001b[0m\n",
            "\u001b[2K   \u001b[90m━━━━━━━━━━━━━━━━━━━━━━━━━━━━━━━━━━━━━━━━\u001b[0m \u001b[32m1.1/1.1 MB\u001b[0m \u001b[31m26.1 MB/s\u001b[0m eta \u001b[36m0:00:00\u001b[0m\n",
            "\u001b[2K   \u001b[90m━━━━━━━━━━━━━━━━━━━━━━━━━━━━━━━━━━━━━━━━\u001b[0m \u001b[32m53.6/53.6 kB\u001b[0m \u001b[31m2.5 MB/s\u001b[0m eta \u001b[36m0:00:00\u001b[0m\n",
            "\u001b[2K   \u001b[90m━━━━━━━━━━━━━━━━━━━━━━━━━━━━━━━━━━━━━━━━\u001b[0m \u001b[32m197.4/197.4 kB\u001b[0m \u001b[31m10.8 MB/s\u001b[0m eta \u001b[36m0:00:00\u001b[0m\n",
            "\u001b[2K   \u001b[90m━━━━━━━━━━━━━━━━━━━━━━━━━━━━━━━━━━━━━━━━\u001b[0m \u001b[32m97.6/97.6 kB\u001b[0m \u001b[31m5.4 MB/s\u001b[0m eta \u001b[36m0:00:00\u001b[0m\n",
            "\u001b[2K   \u001b[90m━━━━━━━━━━━━━━━━━━━━━━━━━━━━━━━━━━━━━━━━\u001b[0m \u001b[32m318.9/318.9 kB\u001b[0m \u001b[31m16.2 MB/s\u001b[0m eta \u001b[36m0:00:00\u001b[0m\n",
            "\u001b[2K   \u001b[90m━━━━━━━━━━━━━━━━━━━━━━━━━━━━━━━━━━━━━━━━\u001b[0m \u001b[32m49.3/49.3 kB\u001b[0m \u001b[31m2.9 MB/s\u001b[0m eta \u001b[36m0:00:00\u001b[0m\n",
            "\u001b[2K   \u001b[90m━━━━━━━━━━━━━━━━━━━━━━━━━━━━━━━━━━━━━━━━\u001b[0m \u001b[32m58.3/58.3 kB\u001b[0m \u001b[31m3.1 MB/s\u001b[0m eta \u001b[36m0:00:00\u001b[0m\n",
            "\u001b[?25h"
          ]
        }
      ]
    },
    {
      "cell_type": "markdown",
      "source": [
        "# Environmental Variables"
      ],
      "metadata": {
        "id": "b_TN2ovZMyQC"
      }
    },
    {
      "cell_type": "code",
      "source": [
        "from google.colab import userdata\n",
        "import os\n",
        "\n",
        "os.environ[\"OPENAI_API_KEY\"] = userdata.get('OPENAI_API_KEY')"
      ],
      "metadata": {
        "id": "H8NRxr7cMmmw"
      },
      "execution_count": null,
      "outputs": []
    },
    {
      "cell_type": "markdown",
      "source": [
        "# Text with Private Data"
      ],
      "metadata": {
        "id": "zrrk53whWVhN"
      }
    },
    {
      "cell_type": "code",
      "source": [
        "from llama_index.core.postprocessor import NERPIINodePostprocessor\n",
        "from llama_index.core.schema import TextNode, NodeWithScore\n",
        "\n",
        "text = \"\"\"\n",
        "Hi, I'm Sarah Mitchell, and I just got a new credit card with the number 3714-496089-47322.\n",
        "My personal email is sarah.mitchell@mailbox.com, and I'm currently based in Sydney.\n",
        "By the way, I tried paying my utility bill with card number 6011-5832-9109-1726, but it didn't work.\n",
        "For my bank transactions, I use this IBAN: NL91ABNA0417164300.\n",
        "Also, can you help me with my Wi-Fi issues? I keep getting blocked by IP address 203.0.113.15.\n",
        "I've shared a family photo on my personal blog at https://www.sarahs-lifediary.org/.\n",
        "Oh, and my grandfather, George Stone, was born in 1921, while my grandmother, Emily Clarkson, was born in 1925.\n",
        "Last question—what's the spending limit on my main card, the one ending in 8473?\n",
        "\"\"\"\n",
        "\n",
        "node = TextNode(text=text)"
      ],
      "metadata": {
        "id": "X19Vi4_HWahz"
      },
      "execution_count": null,
      "outputs": []
    },
    {
      "cell_type": "markdown",
      "source": [
        "# NER Model for PII Masking: NERPIINodePostprocessor"
      ],
      "metadata": {
        "id": "u7TinfDRM2Ko"
      }
    },
    {
      "cell_type": "code",
      "execution_count": null,
      "metadata": {
        "colab": {
          "base_uri": "https://localhost:8080/"
        },
        "id": "I41Ic96rFRiP",
        "outputId": "3f1f2279-6c32-4d9f-894a-477e09e1cb83"
      },
      "outputs": [
        {
          "output_type": "stream",
          "name": "stderr",
          "text": [
            "No model was supplied, defaulted to dbmdz/bert-large-cased-finetuned-conll03-english and revision f2482bf (https://huggingface.co/dbmdz/bert-large-cased-finetuned-conll03-english).\n",
            "Using a pipeline without specifying a model name and revision in production is not recommended.\n",
            "Some weights of the model checkpoint at dbmdz/bert-large-cased-finetuned-conll03-english were not used when initializing BertForTokenClassification: ['bert.pooler.dense.bias', 'bert.pooler.dense.weight']\n",
            "- This IS expected if you are initializing BertForTokenClassification from the checkpoint of a model trained on another task or with another architecture (e.g. initializing a BertForSequenceClassification model from a BertForPreTraining model).\n",
            "- This IS NOT expected if you are initializing BertForTokenClassification from the checkpoint of a model that you expect to be exactly identical (initializing a BertForSequenceClassification model from a BertForSequenceClassification model).\n",
            "/usr/local/lib/python3.10/dist-packages/transformers/tokenization_utils_base.py:1601: FutureWarning: `clean_up_tokenization_spaces` was not set. It will be set to `True` by default. This behavior will be depracted in transformers v4.45, and will be then set to `False` by default. For more details check this issue: https://github.com/huggingface/transformers/issues/31884\n",
            "  warnings.warn(\n",
            "/usr/local/lib/python3.10/dist-packages/transformers/pipelines/token_classification.py:168: UserWarning: `grouped_entities` is deprecated and will be removed in version v5.0.0, defaulted to `aggregation_strategy=\"simple\"` instead.\n",
            "  warnings.warn(\n"
          ]
        },
        {
          "output_type": "stream",
          "name": "stdout",
          "text": [
            "Hi, I'm [PER_9], and I just got a new credit card with the number 3714-496089-47322.\n",
            "My personal email is sarah.mitchell@mailbox.com, and I'm currently based in [LOC_169].\n",
            "By the way, I tried paying my utility bill with card number 6011-5832-9109-1726, but it didn't work.\n",
            "For my bank transactions, I use this IBAN: NL91ABNA0417164300.\n",
            "Also, can you help me with my Wi-[MISC_374] issues? I keep getting blocked by IP address 203.0.113.15.\n",
            "I've shared a family photo on my personal blog at https://www.sarahs-lifediary.org/.\n",
            "Oh, and my grandfather, [PER_545], was born in 1921, while my grandmother, [PER_599], was born in 1925.\n",
            "Last question—what's the spending limit on my main card, the one ending in 8473?\n"
          ]
        }
      ],
      "source": [
        "from llama_index.core.postprocessor import NERPIINodePostprocessor\n",
        "from llama_index.core.schema import TextNode, NodeWithScore\n",
        "\n",
        "processor = NERPIINodePostprocessor()\n",
        "\n",
        "new_nodes = processor.postprocess_nodes([NodeWithScore(node=node)])\n",
        "print(new_nodes[0].node.get_text())"
      ]
    },
    {
      "cell_type": "markdown",
      "source": [
        "# LLM for PII Masking: PIINodePostprocessor"
      ],
      "metadata": {
        "id": "tEX9tyUKPmHB"
      }
    },
    {
      "cell_type": "code",
      "source": [
        "from llama_index.core.postprocessor import PIINodePostprocessor\n",
        "from llama_index.core.schema import TextNode, NodeWithScore\n",
        "from llama_index.llms.openai import OpenAI\n",
        "\n",
        "processor = PIINodePostprocessor(llm=OpenAI())\n",
        "\n",
        "new_nodes = processor.postprocess_nodes([NodeWithScore(node=node)])\n",
        "print(new_nodes[0].node.get_text())"
      ],
      "metadata": {
        "colab": {
          "base_uri": "https://localhost:8080/"
        },
        "id": "_F751xY9HhYP",
        "outputId": "d04b9069-2b17-4b8d-c3c7-7bd6e27cb703"
      },
      "execution_count": null,
      "outputs": [
        {
          "output_type": "stream",
          "name": "stdout",
          "text": [
            "Hi, I'm [NAME1] [NAME2], and I just got a new credit card with the number [CREDIT_CARD_NUMBER1].\n",
            "My personal email is [EMAIL], and I'm currently based in [CITY].\n",
            "By the way, I tried paying my utility bill with card number [CREDIT_CARD_NUMBER2], but it didn't work.\n",
            "For my bank transactions, I use this IBAN: [IBAN].\n",
            "Also, can you help me with my Wi-Fi issues? I keep getting blocked by IP address [IP_ADDRESS].\n",
            "I've shared a family photo on my personal blog at [URL].\n",
            "Oh, and my grandfather, [NAME3] [NAME4], was born in [DATE1], while my grandmother, [NAME5] [NAME6], was born in [DATE2].\n",
            "Last question—what's the spending limit on my main card, the one ending in [CREDIT_CARD_ENDING].\n"
          ]
        }
      ]
    },
    {
      "cell_type": "markdown",
      "source": [
        "# Presidio for PII Masking"
      ],
      "metadata": {
        "id": "w6dqYkCBPztG"
      }
    },
    {
      "cell_type": "code",
      "source": [
        "from llama_index.postprocessor.presidio import PresidioPIINodePostprocessor\n",
        "from llama_index.core.schema import TextNode, NodeWithScore\n",
        "from llama_index.llms.openai import OpenAI\n",
        "\n",
        "processor = PresidioPIINodePostprocessor()\n",
        "\n",
        "new_nodes = processor.postprocess_nodes([NodeWithScore(node=node)])\n",
        "print(new_nodes[0].node.get_text())"
      ],
      "metadata": {
        "colab": {
          "base_uri": "https://localhost:8080/"
        },
        "id": "se2zeFzoIbso",
        "outputId": "4b1f220f-4e7c-4501-c63c-aa6e90e2422f"
      },
      "execution_count": null,
      "outputs": [
        {
          "output_type": "stream",
          "name": "stderr",
          "text": [
            "WARNING:presidio-analyzer:Recognizer not added to registry because language is not supported by registry - CreditCardRecognizer supported languages: es, registry supported languages: en\n",
            "WARNING:presidio-analyzer:Recognizer not added to registry because language is not supported by registry - CreditCardRecognizer supported languages: it, registry supported languages: en\n",
            "WARNING:presidio-analyzer:Recognizer not added to registry because language is not supported by registry - CreditCardRecognizer supported languages: pl, registry supported languages: en\n",
            "WARNING:presidio-analyzer:Recognizer not added to registry because language is not supported by registry - EsNifRecognizer supported languages: es, registry supported languages: en\n",
            "WARNING:presidio-analyzer:Recognizer not added to registry because language is not supported by registry - EsNieRecognizer supported languages: es, registry supported languages: en\n",
            "WARNING:presidio-analyzer:Recognizer not added to registry because language is not supported by registry - ItDriverLicenseRecognizer supported languages: it, registry supported languages: en\n",
            "WARNING:presidio-analyzer:Recognizer not added to registry because language is not supported by registry - ItFiscalCodeRecognizer supported languages: it, registry supported languages: en\n",
            "WARNING:presidio-analyzer:Recognizer not added to registry because language is not supported by registry - ItVatCodeRecognizer supported languages: it, registry supported languages: en\n",
            "WARNING:presidio-analyzer:Recognizer not added to registry because language is not supported by registry - ItIdentityCardRecognizer supported languages: it, registry supported languages: en\n",
            "WARNING:presidio-analyzer:Recognizer not added to registry because language is not supported by registry - ItPassportRecognizer supported languages: it, registry supported languages: en\n",
            "WARNING:presidio-analyzer:Recognizer not added to registry because language is not supported by registry - PlPeselRecognizer supported languages: pl, registry supported languages: en\n"
          ]
        },
        {
          "output_type": "stream",
          "name": "stdout",
          "text": [
            "\n",
            "Hi, I'm <PERSON_3>, and I just got a new credit card with the number 3714-<US_DRIVER_LICENSE_1>-47322.\n",
            "My personal email is <EMAIL_ADDRESS_1>, and I'm currently based in <LOCATION_1>.\n",
            "By the way, I tried paying my utility bill with card number <IN_PAN_1>9109-1726, but it didn't work.\n",
            "For my bank transactions, I use this IBAN: <IBAN_CODE_1>.\n",
            "Also, can you help me with my Wi-Fi issues? I keep getting blocked by IP address <IP_ADDRESS_1>.\n",
            "I've shared a family photo on my personal blog at <URL_1>\n",
            "Oh, and my grandfather, <PERSON_2>, was born in <DATE_TIME_2>, while my grandmother, <PERSON_1>, was born in <DATE_TIME_1>.\n",
            "Last question—what's the spending limit on my main card, the one ending in 8473?\n",
            "\n"
          ]
        }
      ]
    },
    {
      "cell_type": "markdown",
      "source": [
        "# Retrieval using Milvus"
      ],
      "metadata": {
        "id": "-IIkjfTbSFjc"
      }
    },
    {
      "cell_type": "code",
      "source": [
        "from llama_index.core import VectorStoreIndex, StorageContext\n",
        "from llama_index.vector_stores.milvus import MilvusVectorStore\n",
        "\n",
        "vector_store = MilvusVectorStore(\n",
        "    uri=\"./milvus_demo.db\", dim=1536, overwrite=True\n",
        ")\n",
        "storage_context = StorageContext.from_defaults(vector_store=vector_store)\n",
        "\n",
        "index = VectorStoreIndex([n.node for n in new_nodes], storage_context=storage_context)"
      ],
      "metadata": {
        "colab": {
          "base_uri": "https://localhost:8080/"
        },
        "id": "Jw_foGiKKUlg",
        "outputId": "f169bb00-7be6-4155-a4ea-0be8cbf27e2d"
      },
      "execution_count": null,
      "outputs": [
        {
          "output_type": "stream",
          "name": "stderr",
          "text": [
            "DEBUG:pymilvus.milvus_client.milvus_client:Created new connection using: ac940dacf6a2424d84da3b624ab662ec\n",
            "DEBUG:pymilvus.milvus_client.milvus_client:Successfully created collection: llamacollection\n",
            "DEBUG:pymilvus.milvus_client.milvus_client:Successfully created an index on collection: llamacollection\n"
          ]
        }
      ]
    },
    {
      "cell_type": "code",
      "source": [
        "response = index.as_query_engine().query(\n",
        "    \"What is the name of the person?\"\n",
        ")\n",
        "print(str(response))"
      ],
      "metadata": {
        "colab": {
          "base_uri": "https://localhost:8080/"
        },
        "id": "YO-1WDqPKp__",
        "outputId": "90ea7304-9126-4e37-fc0f-a5757ec3827a"
      },
      "execution_count": null,
      "outputs": [
        {
          "output_type": "stream",
          "name": "stdout",
          "text": [
            "The name of the person is <PERSON_3>.\n"
          ]
        }
      ]
    },
    {
      "cell_type": "code",
      "source": [
        "response = index.as_query_engine().query(\n",
        "    \"What is the number of the credit card?\"\n",
        ")\n",
        "print(str(response))"
      ],
      "metadata": {
        "colab": {
          "base_uri": "https://localhost:8080/"
        },
        "id": "5u2xj6ZBSR-3",
        "outputId": "bcc4ebe1-015c-4806-f717-70a45f3134d5"
      },
      "execution_count": null,
      "outputs": [
        {
          "output_type": "stream",
          "name": "stdout",
          "text": [
            "The number of the credit card is 3714-<US_DRIVER_LICENSE_1>-47322.\n"
          ]
        }
      ]
    },
    {
      "cell_type": "markdown",
      "source": [
        "# Example of Data Privacy Violations"
      ],
      "metadata": {
        "id": "7xOROuuoTkVI"
      }
    },
    {
      "cell_type": "code",
      "source": [
        "response = index.as_query_engine().query(\n",
        "      \"What is the issuer of the credit card number?\"\n",
        ")\n",
        "print(str(response))"
      ],
      "metadata": {
        "colab": {
          "base_uri": "https://localhost:8080/"
        },
        "id": "_U3DWG9sSrOD",
        "outputId": "88130ff8-abd0-414c-9132-7852689a9e9a"
      },
      "execution_count": null,
      "outputs": [
        {
          "output_type": "stream",
          "name": "stdout",
          "text": [
            "The issuer of the credit card number is American Express.\n"
          ]
        }
      ]
    }
  ]
}